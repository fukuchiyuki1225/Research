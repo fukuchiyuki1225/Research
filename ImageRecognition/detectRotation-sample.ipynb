{
 "cells": [
  {
   "cell_type": "code",
   "execution_count": 4,
   "metadata": {},
   "outputs": [],
   "source": [
    "import cv2\n",
    "import numpy as np\n",
    "import scipy.linalg as linalg\n",
    "import math"
   ]
  },
  {
   "cell_type": "code",
   "execution_count": 23,
   "metadata": {},
   "outputs": [
    {
     "name": "stdout",
     "output_type": "stream",
     "text": [
      "-45.78003571945742\n"
     ]
    }
   ],
   "source": [
    "# 画像の読み込み\n",
    "query = cv2.imread(\"./cat.png\") #検出したい画像\n",
    "train = cv2.imread(\"./sample2.png\") #検出対象の画像\n",
    "\n",
    "# 検出器生成\n",
    "sift = cv2.xfeatures2d.SIFT_create()\n",
    "\n",
    "# 画像の特徴量（kp:特徴点の座標情報等，des:特徴量記述子）\n",
    "kp_q, des_q = sift.detectAndCompute(query,None)\n",
    "kp_t, des_t = sift.detectAndCompute(train,None)\n",
    "\n",
    "# k-近傍探索の準備\n",
    "FLANN_INDEX_KDTREE = 0\n",
    "index_params = dict(algorithm=FLANN_INDEX_KDTREE,tress=5)\n",
    "search_params = dict(checks = 50)\n",
    "flann = cv2.FlannBasedMatcher(index_params, search_params)\n",
    "\n",
    "# k-近傍探索を用いて特徴点のマッチング\n",
    "matches = flann.knnMatch(des_q,des_t,k=2)\n",
    "\n",
    "# Loweの比率検定に従って、ベストマッチした特徴量を配列goodに保持\n",
    "good = []\n",
    "for m,n in matches:\n",
    "    if m.distance < 0.7*n.distance:\n",
    "        good.append(m)\n",
    "        \n",
    "# 物体検出に必要な対応点の数の下限\n",
    "MIN_MATCH_COUNT = 10\n",
    "\n",
    "if len(good) > MIN_MATCH_COUNT:\n",
    "    src_pts = np.float32([kp_q[m.queryIdx].pt for m in good]).reshape(-1,1,2)\n",
    "    dst_pts = np.float32([kp_t[m.trainIdx].pt for m in good]).reshape(-1,1,2)\n",
    "\n",
    "    # ホモグラフィ行列の推定(M:ホモグラフィ行列，mask:RANSACで使用されたか[0or1])\n",
    "    M, mask = cv2.findHomography(src_pts,dst_pts,cv2.RANSAC,5.0)\n",
    "    matchesMask = mask.ravel().tolist()\n",
    "\n",
    "    print(math.degrees(-math.atan2(M[1,0],M[0,0])))\n",
    "    \n",
    "    # h,w = query.shape[:2] # query画像のサイズを取得\n",
    "    # pts = np.float32([ [0,0],[0,h-1],[w-1,h-1],[w-1,0] ]).reshape(-1,1,2) # query画像の四隅の座標を行列に変換\n",
    "    # dst = cv2.perspectiveTransform(pts,M) # Mをquery画像上の座標に変換\n",
    "\n",
    "    # train画像内で検出された部分を線で囲む\n",
    "    # train = cv2.polylines(train,[np.int32(dst)],True,255,3,cv2.LINE_AA)\n",
    "\n",
    "    # print(dst)\n",
    "    \n",
    "else:\n",
    "    print(\"Not enough matches are found\")\n",
    "    matchesMask = None"
   ]
  }
 ],
 "metadata": {
  "kernelspec": {
   "display_name": "Python 3",
   "language": "python",
   "name": "python3"
  },
  "language_info": {
   "codemirror_mode": {
    "name": "ipython",
    "version": 3
   },
   "file_extension": ".py",
   "mimetype": "text/x-python",
   "name": "python",
   "nbconvert_exporter": "python",
   "pygments_lexer": "ipython3",
   "version": "3.7.2"
  }
 },
 "nbformat": 4,
 "nbformat_minor": 2
}
