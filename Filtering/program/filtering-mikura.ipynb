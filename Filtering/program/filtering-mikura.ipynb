{
 "cells": [
  {
   "cell_type": "code",
   "execution_count": 33,
   "id": "33c36fb7-0e5f-401b-b56c-58433e530183",
   "metadata": {},
   "outputs": [],
   "source": [
    "# JSONファイルを扱う\n",
    "import json"
   ]
  },
  {
   "cell_type": "code",
   "execution_count": 34,
   "id": "0371344f-9d22-483f-a78c-8575786dd9a8",
   "metadata": {},
   "outputs": [],
   "source": [
    "# ファイル読み込み\n",
    "jsonOpen = open('/Users/yuki-f/Downloads/569394396.json', 'r')"
   ]
  },
  {
   "cell_type": "code",
   "execution_count": 35,
   "id": "003e1d75-9353-465b-bd2a-92ffb3eaafa7",
   "metadata": {},
   "outputs": [],
   "source": [
    "jsonData = json.load(jsonOpen) # JSONファイルとして読み込み"
   ]
  },
  {
   "cell_type": "code",
   "execution_count": 44,
   "id": "4e3f791f-56b9-4aa6-93b6-3f0021ef0dff",
   "metadata": {
    "tags": []
   },
   "outputs": [
    {
     "name": "stdout",
     "output_type": "stream",
     "text": [
      "event_whenflagclicked\n",
      "control_repeat\n",
      "looks_sayforsecs\n",
      "motion_movesteps\n",
      "event_whenflagclicked\n",
      "control_repeat\n",
      "motion_movesteps\n",
      "looks_sayforsecs\n",
      "event_whenflagclicked\n",
      "control_repeat\n",
      "looks_sayforsecs\n",
      "motion_movesteps\n",
      "event_whenflagclicked\n",
      "control_repeat\n",
      "looks_sayforsecs\n",
      "motion_movesteps\n"
     ]
    }
   ],
   "source": [
    "list = []\n",
    "for obj in jsonData['targets']:\n",
    "    for key in obj['blocks'].keys():\n",
    "        print(obj['blocks'][key]['opcode'])"
   ]
  },
  {
   "cell_type": "code",
   "execution_count": null,
   "id": "6d05c259-e5a8-4848-a9fd-ffa1bc42c3ac",
   "metadata": {},
   "outputs": [],
   "source": []
  }
 ],
 "metadata": {
  "kernelspec": {
   "display_name": "Python 3",
   "language": "python",
   "name": "python3"
  },
  "language_info": {
   "codemirror_mode": {
    "name": "ipython",
    "version": 3
   },
   "file_extension": ".py",
   "mimetype": "text/x-python",
   "name": "python",
   "nbconvert_exporter": "python",
   "pygments_lexer": "ipython3",
   "version": "3.8.8"
  }
 },
 "nbformat": 4,
 "nbformat_minor": 5
}
