{
 "cells": [
  {
   "cell_type": "code",
   "execution_count": 1,
   "id": "b9cecfa9-c9ed-4325-8b8a-7c6507b5a9aa",
   "metadata": {},
   "outputs": [],
   "source": [
    "from sklearn import preprocessing"
   ]
  },
  {
   "cell_type": "code",
   "execution_count": 5,
   "id": "9197ffd9-90d9-4989-bdf1-a5527423ecbf",
   "metadata": {},
   "outputs": [],
   "source": [
    "x = [[17, 10], [33, 25], [51, 40], [69, 55], [95, 65] ]"
   ]
  },
  {
   "cell_type": "code",
   "execution_count": 6,
   "id": "b9677dac-1709-410a-8813-627be74710d3",
   "metadata": {},
   "outputs": [
    {
     "name": "stdout",
     "output_type": "stream",
     "text": [
      "[[0.         0.        ]\n",
      " [0.20512821 0.27272727]\n",
      " [0.43589744 0.54545455]\n",
      " [0.66666667 0.81818182]\n",
      " [1.         1.        ]]\n"
     ]
    }
   ],
   "source": [
    "mm = preprocessing.MinMaxScaler()\n",
    "print(mm.fit_transform(x))"
   ]
  },
  {
   "cell_type": "code",
   "execution_count": 7,
   "id": "f2bc9f18-e1be-4fe7-bfde-5c7a70d6f4da",
   "metadata": {},
   "outputs": [],
   "source": [
    "y = [[30, 20], [50, 40], [80, 70]]"
   ]
  },
  {
   "cell_type": "code",
   "execution_count": 8,
   "id": "ca702e52-df23-4565-8b84-cbb3e5746443",
   "metadata": {},
   "outputs": [
    {
     "name": "stdout",
     "output_type": "stream",
     "text": [
      "[[0.  0. ]\n",
      " [0.4 0.4]\n",
      " [1.  1. ]]\n"
     ]
    }
   ],
   "source": [
    "mm = preprocessing.MinMaxScaler()\n",
    "print(mm.fit_transform(y))"
   ]
  },
  {
   "cell_type": "code",
   "execution_count": null,
   "id": "6002e0bd-b76c-4199-b035-d416db14650e",
   "metadata": {},
   "outputs": [],
   "source": []
  }
 ],
 "metadata": {
  "kernelspec": {
   "display_name": "Python 3",
   "language": "python",
   "name": "python3"
  },
  "language_info": {
   "codemirror_mode": {
    "name": "ipython",
    "version": 3
   },
   "file_extension": ".py",
   "mimetype": "text/x-python",
   "name": "python",
   "nbconvert_exporter": "python",
   "pygments_lexer": "ipython3",
   "version": "3.8.8"
  }
 },
 "nbformat": 4,
 "nbformat_minor": 5
}
