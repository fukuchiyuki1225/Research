{
 "cells": [
  {
   "cell_type": "code",
   "execution_count": 1,
   "id": "2828e61c-95fa-4934-942f-53dd0117bd02",
   "metadata": {},
   "outputs": [],
   "source": [
    "import pandas as pd"
   ]
  },
  {
   "cell_type": "code",
   "execution_count": 2,
   "id": "ea7910ff-2798-4c8f-87bb-1f16abb1951b",
   "metadata": {},
   "outputs": [],
   "source": [
    "path = \"/Users/yuki-f/Documents/SocSEL/Research/DTW/data/dtw/dtw5\""
   ]
  },
  {
   "cell_type": "code",
   "execution_count": 3,
   "id": "699ea605-d301-47e8-8307-2e2fbd3b78dc",
   "metadata": {},
   "outputs": [],
   "source": [
    "df = pd.DataFrame(columns=[\"i\", \"j\", \"dtw\"])"
   ]
  },
  {
   "cell_type": "code",
   "execution_count": 4,
   "id": "409bfd32-381e-406f-896c-f725dea69c93",
   "metadata": {},
   "outputs": [],
   "source": [
    "for i in range(1, 167):\n",
    "    df = pd.concat([df, pd.read_csv(path + \"/dtw-\" + str(i) + \"0000.csv\", usecols=[\"i\", \"j\", \"dtw\"])])"
   ]
  },
  {
   "cell_type": "code",
   "execution_count": 5,
   "id": "db00309f-c260-41c0-8601-c46a9d1a4fdc",
   "metadata": {},
   "outputs": [],
   "source": [
    "df = df.reset_index(drop=True)"
   ]
  },
  {
   "cell_type": "code",
   "execution_count": 6,
   "id": "c6c273f5-93cd-45d9-a26d-94b982ef1d62",
   "metadata": {},
   "outputs": [],
   "source": [
    "df = df.sort_values(\"dtw\")"
   ]
  },
  {
   "cell_type": "code",
   "execution_count": 7,
   "id": "1754af41-0e9a-4b29-a997-8db726937979",
   "metadata": {},
   "outputs": [
    {
     "data": {
      "text/html": [
       "<div>\n",
       "<style scoped>\n",
       "    .dataframe tbody tr th:only-of-type {\n",
       "        vertical-align: middle;\n",
       "    }\n",
       "\n",
       "    .dataframe tbody tr th {\n",
       "        vertical-align: top;\n",
       "    }\n",
       "\n",
       "    .dataframe thead th {\n",
       "        text-align: right;\n",
       "    }\n",
       "</style>\n",
       "<table border=\"1\" class=\"dataframe\">\n",
       "  <thead>\n",
       "    <tr style=\"text-align: right;\">\n",
       "      <th></th>\n",
       "      <th>i</th>\n",
       "      <th>j</th>\n",
       "      <th>dtw</th>\n",
       "    </tr>\n",
       "  </thead>\n",
       "  <tbody>\n",
       "    <tr>\n",
       "      <th>349632</th>\n",
       "      <td>206</td>\n",
       "      <td>923</td>\n",
       "      <td>0.000000</td>\n",
       "    </tr>\n",
       "    <tr>\n",
       "      <th>1028900</th>\n",
       "      <td>701</td>\n",
       "      <td>1558</td>\n",
       "      <td>0.000000</td>\n",
       "    </tr>\n",
       "    <tr>\n",
       "      <th>1028901</th>\n",
       "      <td>701</td>\n",
       "      <td>1008</td>\n",
       "      <td>0.000000</td>\n",
       "    </tr>\n",
       "    <tr>\n",
       "      <th>1028902</th>\n",
       "      <td>701</td>\n",
       "      <td>749</td>\n",
       "      <td>0.000000</td>\n",
       "    </tr>\n",
       "    <tr>\n",
       "      <th>1028903</th>\n",
       "      <td>701</td>\n",
       "      <td>1436</td>\n",
       "      <td>0.000000</td>\n",
       "    </tr>\n",
       "    <tr>\n",
       "      <th>...</th>\n",
       "      <td>...</td>\n",
       "      <td>...</td>\n",
       "      <td>...</td>\n",
       "    </tr>\n",
       "    <tr>\n",
       "      <th>729251</th>\n",
       "      <td>455</td>\n",
       "      <td>970</td>\n",
       "      <td>138.936075</td>\n",
       "    </tr>\n",
       "    <tr>\n",
       "      <th>1118759</th>\n",
       "      <td>779</td>\n",
       "      <td>1348</td>\n",
       "      <td>139.230012</td>\n",
       "    </tr>\n",
       "    <tr>\n",
       "      <th>729252</th>\n",
       "      <td>455</td>\n",
       "      <td>779</td>\n",
       "      <td>139.647915</td>\n",
       "    </tr>\n",
       "    <tr>\n",
       "      <th>819175</th>\n",
       "      <td>518</td>\n",
       "      <td>1348</td>\n",
       "      <td>139.764502</td>\n",
       "    </tr>\n",
       "    <tr>\n",
       "      <th>729253</th>\n",
       "      <td>455</td>\n",
       "      <td>518</td>\n",
       "      <td>140.178716</td>\n",
       "    </tr>\n",
       "  </tbody>\n",
       "</table>\n",
       "<p>1657187 rows × 3 columns</p>\n",
       "</div>"
      ],
      "text/plain": [
       "           i     j         dtw\n",
       "349632   206   923    0.000000\n",
       "1028900  701  1558    0.000000\n",
       "1028901  701  1008    0.000000\n",
       "1028902  701   749    0.000000\n",
       "1028903  701  1436    0.000000\n",
       "...      ...   ...         ...\n",
       "729251   455   970  138.936075\n",
       "1118759  779  1348  139.230012\n",
       "729252   455   779  139.647915\n",
       "819175   518  1348  139.764502\n",
       "729253   455   518  140.178716\n",
       "\n",
       "[1657187 rows x 3 columns]"
      ]
     },
     "execution_count": 7,
     "metadata": {},
     "output_type": "execute_result"
    }
   ],
   "source": [
    "df"
   ]
  },
  {
   "cell_type": "code",
   "execution_count": 8,
   "id": "b11063c4-3e8c-4ee0-8e43-7ceeb0387582",
   "metadata": {},
   "outputs": [],
   "source": [
    "import matplotlib.pyplot as plt"
   ]
  },
  {
   "cell_type": "code",
   "execution_count": 9,
   "id": "92f2b2b4-1a2c-44aa-b220-49c44c3dc378",
   "metadata": {},
   "outputs": [
    {
     "data": {
      "text/plain": [
       "(array([1.038874e+06, 2.529390e+05, 1.169400e+05, 1.235800e+05,\n",
       "        7.927900e+04, 3.351900e+04, 8.113000e+03, 3.736000e+03,\n",
       "        1.710000e+02, 3.600000e+01]),\n",
       " array([  0.        ,  14.01787156,  28.03574311,  42.05361467,\n",
       "         56.07148622,  70.08935778,  84.10722933,  98.12510089,\n",
       "        112.14297244, 126.160844  , 140.17871555]),\n",
       " <BarContainer object of 10 artists>)"
      ]
     },
     "execution_count": 9,
     "metadata": {},
     "output_type": "execute_result"
    },
    {
     "data": {
      "image/png": "[encoded data removed]",
      "text/plain": [
       "<Figure size 432x288 with 1 Axes>"
      ]
     },
     "metadata": {
      "needs_background": "light"
     },
     "output_type": "display_data"
    }
   ],
   "source": [
    "plt.hist(df[\"dtw\"], rwidth=0.8)"
   ]
  },
  {
   "cell_type": "code",
   "execution_count": 10,
   "id": "71456ac4-a4fc-4e54-85d5-2d3c1092eb70",
   "metadata": {},
   "outputs": [
    {
     "data": {
      "text/plain": [
       "{'whiskers': [<matplotlib.lines.Line2D at 0x7fa9e39381f0>,\n",
       "  <matplotlib.lines.Line2D at 0x7fa9e3938550>],\n",
       " 'caps': [<matplotlib.lines.Line2D at 0x7fa9e39388b0>,\n",
       "  <matplotlib.lines.Line2D at 0x7fa9e3938c10>],\n",
       " 'boxes': [<matplotlib.lines.Line2D at 0x7fa9e3925e50>],\n",
       " 'medians': [<matplotlib.lines.Line2D at 0x7fa9e3938f70>],\n",
       " 'fliers': [<matplotlib.lines.Line2D at 0x7fa9e3947310>],\n",
       " 'means': []}"
      ]
     },
     "execution_count": 10,
     "metadata": {},
     "output_type": "execute_result"
    },
    {
     "data": {
      "image/png": "[encoded data removed]",
      "text/plain": [
       "<Figure size 432x288 with 1 Axes>"
      ]
     },
     "metadata": {
      "needs_background": "light"
     },
     "output_type": "display_data"
    }
   ],
   "source": [
    "plt.boxplot(df[\"dtw\"])"
   ]
  },
  {
   "cell_type": "code",
   "execution_count": 11,
   "id": "0fdc9d56-2b6f-402c-a92a-e712af4db07f",
   "metadata": {},
   "outputs": [],
   "source": [
    "import numpy as np"
   ]
  },
  {
   "cell_type": "code",
   "execution_count": 12,
   "id": "3c32e966-4b7c-4171-8db7-164d112ef9f0",
   "metadata": {},
   "outputs": [
    {
     "data": {
      "text/plain": [
       "18.50396938261082"
      ]
     },
     "execution_count": 12,
     "metadata": {},
     "output_type": "execute_result"
    }
   ],
   "source": [
    "np.average(df[\"dtw\"])"
   ]
  },
  {
   "cell_type": "code",
   "execution_count": 13,
   "id": "4d395139-a573-4587-be12-dda36e007822",
   "metadata": {},
   "outputs": [
    {
     "data": {
      "text/plain": [
       "9.39462392900648"
      ]
     },
     "execution_count": 13,
     "metadata": {},
     "output_type": "execute_result"
    }
   ],
   "source": [
    "np.median(df[\"dtw\"])"
   ]
  },
  {
   "cell_type": "code",
   "execution_count": 14,
   "id": "e37d2dad-5c52-4cbf-9834-89b2828fa42d",
   "metadata": {},
   "outputs": [
    {
     "data": {
      "text/html": [
       "<div>\n",
       "<style scoped>\n",
       "    .dataframe tbody tr th:only-of-type {\n",
       "        vertical-align: middle;\n",
       "    }\n",
       "\n",
       "    .dataframe tbody tr th {\n",
       "        vertical-align: top;\n",
       "    }\n",
       "\n",
       "    .dataframe thead th {\n",
       "        text-align: right;\n",
       "    }\n",
       "</style>\n",
       "<table border=\"1\" class=\"dataframe\">\n",
       "  <thead>\n",
       "    <tr style=\"text-align: right;\">\n",
       "      <th></th>\n",
       "      <th>i</th>\n",
       "      <th>j</th>\n",
       "      <th>dtw</th>\n",
       "    </tr>\n",
       "  </thead>\n",
       "  <tbody>\n",
       "    <tr>\n",
       "      <th>349632</th>\n",
       "      <td>206</td>\n",
       "      <td>923</td>\n",
       "      <td>0.0</td>\n",
       "    </tr>\n",
       "    <tr>\n",
       "      <th>1028900</th>\n",
       "      <td>701</td>\n",
       "      <td>1558</td>\n",
       "      <td>0.0</td>\n",
       "    </tr>\n",
       "    <tr>\n",
       "      <th>1028901</th>\n",
       "      <td>701</td>\n",
       "      <td>1008</td>\n",
       "      <td>0.0</td>\n",
       "    </tr>\n",
       "    <tr>\n",
       "      <th>1028902</th>\n",
       "      <td>701</td>\n",
       "      <td>749</td>\n",
       "      <td>0.0</td>\n",
       "    </tr>\n",
       "    <tr>\n",
       "      <th>1028903</th>\n",
       "      <td>701</td>\n",
       "      <td>1436</td>\n",
       "      <td>0.0</td>\n",
       "    </tr>\n",
       "    <tr>\n",
       "      <th>...</th>\n",
       "      <td>...</td>\n",
       "      <td>...</td>\n",
       "      <td>...</td>\n",
       "    </tr>\n",
       "    <tr>\n",
       "      <th>1018945</th>\n",
       "      <td>698</td>\n",
       "      <td>1286</td>\n",
       "      <td>1.0</td>\n",
       "    </tr>\n",
       "    <tr>\n",
       "      <th>1018944</th>\n",
       "      <td>698</td>\n",
       "      <td>1188</td>\n",
       "      <td>1.0</td>\n",
       "    </tr>\n",
       "    <tr>\n",
       "      <th>1018943</th>\n",
       "      <td>698</td>\n",
       "      <td>1284</td>\n",
       "      <td>1.0</td>\n",
       "    </tr>\n",
       "    <tr>\n",
       "      <th>1018948</th>\n",
       "      <td>698</td>\n",
       "      <td>1287</td>\n",
       "      <td>1.0</td>\n",
       "    </tr>\n",
       "    <tr>\n",
       "      <th>799222</th>\n",
       "      <td>513</td>\n",
       "      <td>790</td>\n",
       "      <td>1.0</td>\n",
       "    </tr>\n",
       "  </tbody>\n",
       "</table>\n",
       "<p>7570 rows × 3 columns</p>\n",
       "</div>"
      ],
      "text/plain": [
       "           i     j  dtw\n",
       "349632   206   923  0.0\n",
       "1028900  701  1558  0.0\n",
       "1028901  701  1008  0.0\n",
       "1028902  701   749  0.0\n",
       "1028903  701  1436  0.0\n",
       "...      ...   ...  ...\n",
       "1018945  698  1286  1.0\n",
       "1018944  698  1188  1.0\n",
       "1018943  698  1284  1.0\n",
       "1018948  698  1287  1.0\n",
       "799222   513   790  1.0\n",
       "\n",
       "[7570 rows x 3 columns]"
      ]
     },
     "execution_count": 14,
     "metadata": {},
     "output_type": "execute_result"
    }
   ],
   "source": [
    "df.query(\"0 <= dtw <= 1\")"
   ]
  },
  {
   "cell_type": "code",
   "execution_count": 16,
   "id": "45b76e43-b7ce-486e-95f5-935807379def",
   "metadata": {},
   "outputs": [],
   "source": [
    "df.query(\"0 <= dtw <= 1\").to_csv(\"/Users/yuki-f/Documents/SocSEL/Research/DTW/data/dtw/dtw5/analysis/dtw0-1.csv\")"
   ]
  },
  {
   "cell_type": "code",
   "execution_count": null,
   "id": "8894467b-f6d2-4e20-9e78-a7e2e336cb9d",
   "metadata": {},
   "outputs": [],
   "source": []
  }
 ],
 "metadata": {
  "kernelspec": {
   "display_name": "Python 3",
   "language": "python",
   "name": "python3"
  },
  "language_info": {
   "codemirror_mode": {
    "name": "ipython",
    "version": 3
   },
   "file_extension": ".py",
   "mimetype": "text/x-python",
   "name": "python",
   "nbconvert_exporter": "python",
   "pygments_lexer": "ipython3",
   "version": "3.8.8"
  }
 },
 "nbformat": 4,
 "nbformat_minor": 5
}
