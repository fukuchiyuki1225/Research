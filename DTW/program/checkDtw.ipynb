{
 "cells": [
  {
   "cell_type": "code",
   "execution_count": 31,
   "id": "2828e61c-95fa-4934-942f-53dd0117bd02",
   "metadata": {},
   "outputs": [],
   "source": [
    "import pandas as pd"
   ]
  },
  {
   "cell_type": "code",
   "execution_count": 32,
   "id": "ea7910ff-2798-4c8f-87bb-1f16abb1951b",
   "metadata": {},
   "outputs": [],
   "source": [
    "path = \"/Users/yuki-f/Documents/SocSEL/Research/DTW/data/dtw/dtw5\""
   ]
  },
  {
   "cell_type": "code",
   "execution_count": 33,
   "id": "699ea605-d301-47e8-8307-2e2fbd3b78dc",
   "metadata": {},
   "outputs": [],
   "source": [
    "df = pd.DataFrame(columns=[\"i\", \"j\", \"dtw\"])"
   ]
  },
  {
   "cell_type": "code",
   "execution_count": 37,
   "id": "409bfd32-381e-406f-896c-f725dea69c93",
   "metadata": {},
   "outputs": [],
   "source": [
    "for i in range(1, 167):\n",
    "    df = pd.concat([df, pd.read_csv(path + \"/dtw-\" + str(i) + \"0000.csv\", usecols=[\"i\", \"j\", \"dtw\"])])"
   ]
  },
  {
   "cell_type": "code",
   "execution_count": 38,
   "id": "db00309f-c260-41c0-8601-c46a9d1a4fdc",
   "metadata": {},
   "outputs": [],
   "source": [
    "df = df.reset_index(drop=True)"
   ]
  },
  {
   "cell_type": "code",
   "execution_count": 39,
   "id": "c6c273f5-93cd-45d9-a26d-94b982ef1d62",
   "metadata": {},
   "outputs": [],
   "source": [
    "df = df.sort_values(\"dtw\")"
   ]
  },
  {
   "cell_type": "code",
   "execution_count": 40,
   "id": "1754af41-0e9a-4b29-a997-8db726937979",
   "metadata": {},
   "outputs": [
    {
     "data": {
      "text/html": [
       "<div>\n",
       "<style scoped>\n",
       "    .dataframe tbody tr th:only-of-type {\n",
       "        vertical-align: middle;\n",
       "    }\n",
       "\n",
       "    .dataframe tbody tr th {\n",
       "        vertical-align: top;\n",
       "    }\n",
       "\n",
       "    .dataframe thead th {\n",
       "        text-align: right;\n",
       "    }\n",
       "</style>\n",
       "<table border=\"1\" class=\"dataframe\">\n",
       "  <thead>\n",
       "    <tr style=\"text-align: right;\">\n",
       "      <th></th>\n",
       "      <th>i</th>\n",
       "      <th>j</th>\n",
       "      <th>dtw</th>\n",
       "    </tr>\n",
       "  </thead>\n",
       "  <tbody>\n",
       "    <tr>\n",
       "      <th>0</th>\n",
       "      <td>451</td>\n",
       "      <td>795</td>\n",
       "      <td>0.000000</td>\n",
       "    </tr>\n",
       "    <tr>\n",
       "      <th>1138838</th>\n",
       "      <td>246</td>\n",
       "      <td>1386</td>\n",
       "      <td>0.000000</td>\n",
       "    </tr>\n",
       "    <tr>\n",
       "      <th>1138839</th>\n",
       "      <td>246</td>\n",
       "      <td>397</td>\n",
       "      <td>0.000000</td>\n",
       "    </tr>\n",
       "    <tr>\n",
       "      <th>1138840</th>\n",
       "      <td>246</td>\n",
       "      <td>920</td>\n",
       "      <td>0.000000</td>\n",
       "    </tr>\n",
       "    <tr>\n",
       "      <th>1148816</th>\n",
       "      <td>253</td>\n",
       "      <td>518</td>\n",
       "      <td>0.000000</td>\n",
       "    </tr>\n",
       "    <tr>\n",
       "      <th>...</th>\n",
       "      <td>...</td>\n",
       "      <td>...</td>\n",
       "      <td>...</td>\n",
       "    </tr>\n",
       "    <tr>\n",
       "      <th>729252</th>\n",
       "      <td>455</td>\n",
       "      <td>779</td>\n",
       "      <td>139.647915</td>\n",
       "    </tr>\n",
       "    <tr>\n",
       "      <th>1458506</th>\n",
       "      <td>455</td>\n",
       "      <td>779</td>\n",
       "      <td>139.647915</td>\n",
       "    </tr>\n",
       "    <tr>\n",
       "      <th>1548429</th>\n",
       "      <td>518</td>\n",
       "      <td>1348</td>\n",
       "      <td>139.764502</td>\n",
       "    </tr>\n",
       "    <tr>\n",
       "      <th>729253</th>\n",
       "      <td>455</td>\n",
       "      <td>518</td>\n",
       "      <td>140.178716</td>\n",
       "    </tr>\n",
       "    <tr>\n",
       "      <th>1458507</th>\n",
       "      <td>455</td>\n",
       "      <td>518</td>\n",
       "      <td>140.178716</td>\n",
       "    </tr>\n",
       "  </tbody>\n",
       "</table>\n",
       "<p>2386441 rows × 3 columns</p>\n",
       "</div>"
      ],
      "text/plain": [
       "           i     j         dtw\n",
       "0        451   795    0.000000\n",
       "1138838  246  1386    0.000000\n",
       "1138839  246   397    0.000000\n",
       "1138840  246   920    0.000000\n",
       "1148816  253   518    0.000000\n",
       "...      ...   ...         ...\n",
       "729252   455   779  139.647915\n",
       "1458506  455   779  139.647915\n",
       "1548429  518  1348  139.764502\n",
       "729253   455   518  140.178716\n",
       "1458507  455   518  140.178716\n",
       "\n",
       "[2386441 rows x 3 columns]"
      ]
     },
     "execution_count": 40,
     "metadata": {},
     "output_type": "execute_result"
    }
   ],
   "source": [
    "df"
   ]
  },
  {
   "cell_type": "code",
   "execution_count": 41,
   "id": "b11063c4-3e8c-4ee0-8e43-7ceeb0387582",
   "metadata": {},
   "outputs": [],
   "source": [
    "import matplotlib.pyplot as plt"
   ]
  },
  {
   "cell_type": "code",
   "execution_count": 42,
   "id": "92f2b2b4-1a2c-44aa-b220-49c44c3dc378",
   "metadata": {},
   "outputs": [
    {
     "data": {
      "text/plain": [
       "(array([1.498743e+06, 3.597400e+05, 1.708860e+05, 1.799090e+05,\n",
       "        1.118300e+05, 4.772300e+04, 1.221300e+04, 5.106000e+03,\n",
       "        2.440000e+02, 4.700000e+01]),\n",
       " array([  0.        ,  14.01787156,  28.03574311,  42.05361467,\n",
       "         56.07148622,  70.08935778,  84.10722933,  98.12510089,\n",
       "        112.14297244, 126.160844  , 140.17871555]),\n",
       " <BarContainer object of 10 artists>)"
      ]
     },
     "execution_count": 42,
     "metadata": {},
     "output_type": "execute_result"
    },
    {
     "data": {
      "image/png": "[encoded data removed]",
      "text/plain": [
       "<Figure size 432x288 with 1 Axes>"
      ]
     },
     "metadata": {
      "needs_background": "light"
     },
     "output_type": "display_data"
    }
   ],
   "source": [
    "plt.hist(df[\"dtw\"], rwidth=0.8)"
   ]
  },
  {
   "cell_type": "code",
   "execution_count": 43,
   "id": "71456ac4-a4fc-4e54-85d5-2d3c1092eb70",
   "metadata": {},
   "outputs": [
    {
     "data": {
      "text/plain": [
       "{'whiskers': [<matplotlib.lines.Line2D at 0x7fdc17f17880>,\n",
       "  <matplotlib.lines.Line2D at 0x7fdc17f17be0>],\n",
       " 'caps': [<matplotlib.lines.Line2D at 0x7fdc17f17f40>,\n",
       "  <matplotlib.lines.Line2D at 0x7fdc17f22310>],\n",
       " 'boxes': [<matplotlib.lines.Line2D at 0x7fdc17f17520>],\n",
       " 'medians': [<matplotlib.lines.Line2D at 0x7fdc17f22670>],\n",
       " 'fliers': [<matplotlib.lines.Line2D at 0x7fdc17f229d0>],\n",
       " 'means': []}"
      ]
     },
     "execution_count": 43,
     "metadata": {},
     "output_type": "execute_result"
    },
    {
     "data": {
      "image/png": "[encoded data removed]",
      "text/plain": [
       "<Figure size 432x288 with 1 Axes>"
      ]
     },
     "metadata": {
      "needs_background": "light"
     },
     "output_type": "display_data"
    }
   ],
   "source": [
    "plt.boxplot(df[\"dtw\"])"
   ]
  },
  {
   "cell_type": "code",
   "execution_count": 44,
   "id": "0fdc9d56-2b6f-402c-a92a-e712af4db07f",
   "metadata": {},
   "outputs": [],
   "source": [
    "import numpy as np"
   ]
  },
  {
   "cell_type": "code",
   "execution_count": 45,
   "id": "3c32e966-4b7c-4171-8db7-164d112ef9f0",
   "metadata": {},
   "outputs": [
    {
     "data": {
      "text/plain": [
       "18.48281331796719"
      ]
     },
     "execution_count": 45,
     "metadata": {},
     "output_type": "execute_result"
    }
   ],
   "source": [
    "np.average(df[\"dtw\"])"
   ]
  },
  {
   "cell_type": "code",
   "execution_count": 46,
   "id": "4d395139-a573-4587-be12-dda36e007822",
   "metadata": {},
   "outputs": [
    {
     "data": {
      "text/plain": [
       "9.386825211895085"
      ]
     },
     "execution_count": 46,
     "metadata": {},
     "output_type": "execute_result"
    }
   ],
   "source": [
    "np.median(df[\"dtw\"])"
   ]
  },
  {
   "cell_type": "code",
   "execution_count": null,
   "id": "e37d2dad-5c52-4cbf-9834-89b2828fa42d",
   "metadata": {},
   "outputs": [],
   "source": []
  }
 ],
 "metadata": {
  "kernelspec": {
   "display_name": "Python 3",
   "language": "python",
   "name": "python3"
  },
  "language_info": {
   "codemirror_mode": {
    "name": "ipython",
    "version": 3
   },
   "file_extension": ".py",
   "mimetype": "text/x-python",
   "name": "python",
   "nbconvert_exporter": "python",
   "pygments_lexer": "ipython3",
   "version": "3.8.8"
  }
 },
 "nbformat": 4,
 "nbformat_minor": 5
}
