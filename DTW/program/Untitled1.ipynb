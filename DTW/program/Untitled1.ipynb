{
 "cells": [
  {
   "cell_type": "code",
   "execution_count": 3,
   "id": "65292868-094b-44bd-87f3-6a2e655706b2",
   "metadata": {},
   "outputs": [],
   "source": [
    "import os\n",
    "import pandas as pd\n",
    "import numpy as np\n",
    "from tslearn.preprocessing import TimeSeriesScalerMinMax\n",
    "from tslearn.utils import to_time_series_dataset\n",
    "\n",
    "# DTW距離を算出\n",
    "def dtw(x, y):\n",
    "    # xのデータ数，yのデータ数をそれぞれTx,Tyに代入\n",
    "    Tx = len(x)\n",
    "    Ty = len(y)\n",
    "    \n",
    "    # C:各マスの累積コスト，　B：最小コストの行/列番号\n",
    "    C = np.zeros((Tx, Ty))\n",
    "    B = np.zeros((Tx, Ty, 2), int)\n",
    "    \n",
    "    # 一番初めのマスのコストを，xとyのそれぞれ一番初めの値にする\n",
    "    C[0, 0] = dist(x[0], y[0])\n",
    "    \n",
    "    # 動的計画法を用いる\n",
    "    # 左下のマスからスタートし，各マスに到達するため最小の累積コストを1マスずつ求める\n",
    "    \n",
    "    # 境界条件：両端が左下と右上にあること\n",
    "    # 単調性：左下から始まり，右，上，右上のいずれかにしか進まないこと\n",
    "    # 連続性：繋がっていること\n",
    "    \n",
    "    # 一番下の行は，真っ直ぐ右にコストが累積される\n",
    "    for i in range(Tx):\n",
    "        C[i, 0] = C[i - 1, 0] + dist(x[i], y[0])\n",
    "        B[i, 0] = [i - 1, 0]\n",
    "        \n",
    "    # 同様に一番左の列は，真っ直ぐ上にコストが累積される\n",
    "    for j in range(1, Ty):\n",
    "        C[0, j] = C[0, j - 1] + dist(x[0], y[j])\n",
    "        B[0, j] = [0, j - 1]\n",
    "        \n",
    "    # その他のマスの累積コストを求める\n",
    "    for i in range(1, Tx):\n",
    "        for j in range(1, Ty):\n",
    "            pi, pj, m = get_min(C[i - 1, j],\n",
    "                                C[i, j - 1],\n",
    "                                C[i - 1, j - 1],\n",
    "                                i, j)\n",
    "            # get_minで返ってきた最小コストを累積コストに足す\n",
    "            C[i, j] = dist(x[i], y[j]) + m\n",
    "            # get_minで返ってきた最小コストの行/列番号を保持\n",
    "            B[i, j] = [pi, pj]\n",
    "    # 最終的な右上（最終の到達点）のコスト\n",
    "    cost = C[-1, -1]\n",
    "    \n",
    "    path = [[Tx - 1, Ty - 1]]\n",
    "    \n",
    "    # 逆順にたどることでパスを求める\n",
    "    i = Tx - 1\n",
    "    j = Ty - 1\n",
    "    \n",
    "    while((B[i, j][0] != 0) or (B[i, j][1] != 0)):\n",
    "        path.append(B[i, j])\n",
    "        i, j = B[i, j].astype(int)\n",
    "    path.append([0, 0])\n",
    "    return np.array(path), cost, C\n",
    "\n",
    "# 距離算出\n",
    "def dist(a, b):\n",
    "    return ((a[0] - b[0]) ** 2 + (a[1] - b[1]) ** 2) ** 0.5\n",
    "\n",
    "# 最小値算出\n",
    "def get_min(m0, m1, m2, i, j):\n",
    "    if m0 < m1:\n",
    "        if m0 < m2:\n",
    "            return i - 1, j, m0\n",
    "        else:\n",
    "            return i - 1, j - 1, m2\n",
    "    else:\n",
    "        if m1 < m2:\n",
    "            return i, j - 1, m1\n",
    "        else:\n",
    "            return i - 1, j - 1, m2"
   ]
  },
  {
   "cell_type": "code",
   "execution_count": 16,
   "id": "e7a6152e-d00a-42ba-a824-ed7ac7ee5b52",
   "metadata": {},
   "outputs": [],
   "source": [
    "data_b1 = pd.read_csv(\"/Users/yuki-f/scratchsearch/splitted/11242.csv\", encoding=\"shift-jis\", usecols=['x','y']).values\n",
    "data_b2 = pd.read_csv(\"/Users/yuki-f/scratchsearch/splitted/12404.csv\", encoding=\"shift-jis\", usecols=['x','y']).values"
   ]
  },
  {
   "cell_type": "code",
   "execution_count": 17,
   "id": "7c06a21f-da1f-478e-8bfe-4ae625dfcf7b",
   "metadata": {},
   "outputs": [],
   "source": [
    "data_b1 = TimeSeriesScalerMinMax().fit_transform(to_time_series_dataset([data_b1])).flatten().reshape(-1, 2)\n",
    "data_b2 = TimeSeriesScalerMinMax().fit_transform(to_time_series_dataset([data_b2])).flatten().reshape(-1, 2)"
   ]
  },
  {
   "cell_type": "code",
   "execution_count": 18,
   "id": "98916cd0-ae32-4eb1-b9d6-60d943705606",
   "metadata": {},
   "outputs": [
    {
     "data": {
      "text/plain": [
       "1.551204877308251"
      ]
     },
     "execution_count": 18,
     "metadata": {},
     "output_type": "execute_result"
    }
   ],
   "source": [
    "dtw(data_b1, data_b2)[1]"
   ]
  },
  {
   "cell_type": "code",
   "execution_count": null,
   "id": "4f530914-bc50-4b04-a167-4ca297b958b3",
   "metadata": {},
   "outputs": [],
   "source": []
  },
  {
   "cell_type": "code",
   "execution_count": 22,
   "id": "c8b175e0-b4e1-4524-9a97-a02ccabf19a6",
   "metadata": {},
   "outputs": [],
   "source": [
    "data_c3 = pd.read_csv(\"/Users/yuki-f/scratchsearch/splitted/6304.csv\", encoding=\"shift-jis\", usecols=['x','y']).values\n",
    "data_c4 = pd.read_csv(\"/Users/yuki-f/scratchsearch/splitted/8296.csv\", encoding=\"shift-jis\", usecols=['x','y']).values"
   ]
  },
  {
   "cell_type": "code",
   "execution_count": 23,
   "id": "1301a0cb-a7ae-4452-925f-daed27962da6",
   "metadata": {},
   "outputs": [],
   "source": [
    "data_c3 = TimeSeriesScalerMinMax().fit_transform(to_time_series_dataset([data_c3])).flatten().reshape(-1, 2)\n",
    "data_c4 = TimeSeriesScalerMinMax().fit_transform(to_time_series_dataset([data_c4])).flatten().reshape(-1, 2)"
   ]
  },
  {
   "cell_type": "code",
   "execution_count": 24,
   "id": "3023eeb9-8254-403d-b882-d177408c7808",
   "metadata": {},
   "outputs": [
    {
     "data": {
      "text/plain": [
       "3.802633338265561"
      ]
     },
     "execution_count": 24,
     "metadata": {},
     "output_type": "execute_result"
    }
   ],
   "source": [
    "dtw(data_c3, data_c4)[1]"
   ]
  },
  {
   "cell_type": "code",
   "execution_count": null,
   "id": "2dc67df5-8d72-4d6f-9acf-dae8fb082931",
   "metadata": {},
   "outputs": [],
   "source": []
  }
 ],
 "metadata": {
  "kernelspec": {
   "display_name": "Python 3",
   "language": "python",
   "name": "python3"
  },
  "language_info": {
   "codemirror_mode": {
    "name": "ipython",
    "version": 3
   },
   "file_extension": ".py",
   "mimetype": "text/x-python",
   "name": "python",
   "nbconvert_exporter": "python",
   "pygments_lexer": "ipython3",
   "version": "3.8.8"
  }
 },
 "nbformat": 4,
 "nbformat_minor": 5
}
