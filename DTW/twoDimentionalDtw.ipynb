{
 "cells": [
  {
   "cell_type": "code",
   "execution_count": 2,
   "id": "84d8a2fe-1af4-4588-bb21-7c9d55c96a90",
   "metadata": {},
   "outputs": [],
   "source": [
    "import numpy as np\n",
    "import pylab as plt\n",
    "import pandas as pd\n",
    "import matplotlib.gridspec as gridspec\n",
    "from tslearn.metrics import dtw_path"
   ]
  },
  {
   "cell_type": "code",
   "execution_count": 3,
   "id": "207a7447-6fc5-43a6-8945-280feed469df",
   "metadata": {},
   "outputs": [],
   "source": [
    "# データの準備\n",
    "data = pd.read_csv(\"/Users/yuki-f/Documents/SocSEL/Research/ImageRecognition/546606409.csv\", header=None, encoding=\"shift-jis\").values\n",
    "input_data = pd.read_csv(\"/Users/yuki-f/Documents/SocSEL/Research/ImageRecognition/546602863.csv\", header=None, encoding=\"shift-jis\").values"
   ]
  },
  {
   "cell_type": "code",
   "execution_count": null,
   "id": "ecfd0ade-fcbe-46f2-b234-bab0bcca8398",
   "metadata": {},
   "outputs": [],
   "source": [
    "def dist(x, y):\n",
    "    return (x - y)**2\n",
    "\n",
    "def get_min(m0, m1, m2, i, j):\n",
    "    if m0 < m1:\n",
    "        if m0 < m2:\n",
    "            return i - 1, j, m0\n",
    "        else:\n",
    "            return i - 1, j - 1, m2\n",
    "    else:\n",
    "        if m1 < m2:\n",
    "            return i, j - 1, m1\n",
    "        else:\n",
    "            return i - 1, j - 1, m2"
   ]
  },
  {
   "cell_type": "code",
   "execution_count": null,
   "id": "1af6afe4-5424-41c9-acfc-e51fb6f53e6e",
   "metadata": {},
   "outputs": [],
   "source": [
    "def spring(x, y, epsilon):\n",
    "    Tx = len(x)\n",
    "    Ty = len(y)\n",
    "\n",
    "    # C:各マスの累積コスト，　B：最小コストの行/列番号， S:コスト最小のパスの開始位置\n",
    "    C = np.zeros((Tx, Ty))\n",
    "    B = np.zeros((Tx, Ty, 2), int)\n",
    "    S = np.zeros((Tx, Ty), int)\n",
    "\n",
    "    C[0, 0] = dist(x[0], y[0])\n",
    "\n",
    "    # 一番左の列は，真っ直ぐ上にコストが累積される\n",
    "    for j in range(1, Ty):\n",
    "        C[0, j] = C[0, j - 1] + dist(x[0], y[j])\n",
    "        B[0, j] = [0, j - 1]\n",
    "        S[0, j] = S[0, j - 1]\n",
    "        \n",
    "    for i in range(1, Tx):\n",
    "        # 一番下の列のコストは，そのマス自身のコストのみにする\n",
    "        C[i, 0] = dist(x[i], y[0])\n",
    "        B[i, 0] = [0, 0]\n",
    "        # スタート地点の行番号を保持\n",
    "        S[i, 0] = i\n",
    "        \n",
    "        # 上方向にコストを計算\n",
    "        for j in range(1, Ty):\n",
    "            pi, pj, m = get_min(C[i - 1, j],\n",
    "                                C[i, j - 1],\n",
    "                                C[i - 1, j - 1],\n",
    "                                i, j)\n",
    "            C[i, j] = dist(x[i], y[j]) + m\n",
    "            B[i, j] = [pi, pj]\n",
    "            # スタート地点の行番号を保持\n",
    "            S[i, j] = S[pi, pj]\n",
    "            \n",
    "        # 最小のDTW距離の終点の行番号\n",
    "        imin = np.argmin(C[:(i+1), -1])\n",
    "        \n",
    "        # 最小のDTW距離\n",
    "        dmin = C[imin, -1]\n",
    "        \n",
    "        # dminがepsilonより大きければ抜ける\n",
    "        if dmin > epsilon:\n",
    "            continue\n",
    "                \n",
    "        for j in range(1, Ty):\n",
    "            # コストがdminより小さいかつ,区間が被る場合は，\n",
    "            # dminは最小コストではなくなるため次へ\n",
    "            if (C[i,j] < dmin) and (S[i, j] < imin):\n",
    "                break\n",
    "                \n",
    "        else:\n",
    "            path = [[imin, Ty - 1]]\n",
    "            temp_i = imin\n",
    "            temp_j = Ty - 1\n",
    "            \n",
    "            while (B[temp_i, temp_j][0] != 0 or B[temp_i, temp_j][1] != 0):\n",
    "                path.append(B[temp_i, temp_j])\n",
    "                temp_i, temp_j = B[temp_i, temp_j].astype(int)\n",
    "                \n",
    "            C[S <= imin] = 100000000\n",
    "            yield np.array(path), dmin"
   ]
  },
  {
   "cell_type": "code",
   "execution_count": null,
   "id": "b55f132c-1f51-4c58-a979-335b2a04d97e",
   "metadata": {},
   "outputs": [],
   "source": []
  }
 ],
 "metadata": {
  "kernelspec": {
   "display_name": "Python 3",
   "language": "python",
   "name": "python3"
  },
  "language_info": {
   "codemirror_mode": {
    "name": "ipython",
    "version": 3
   },
   "file_extension": ".py",
   "mimetype": "text/x-python",
   "name": "python",
   "nbconvert_exporter": "python",
   "pygments_lexer": "ipython3",
   "version": "3.8.8"
  }
 },
 "nbformat": 4,
 "nbformat_minor": 5
}
