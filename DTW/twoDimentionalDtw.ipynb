{
 "cells": [
  {
   "cell_type": "code",
   "execution_count": 1,
   "id": "84d8a2fe-1af4-4588-bb21-7c9d55c96a90",
   "metadata": {},
   "outputs": [],
   "source": [
    "import numpy as np\n",
    "import pylab as plt\n",
    "import pandas as pd\n",
    "import matplotlib.gridspec as gridspec\n",
    "from tslearn.metrics import dtw_path"
   ]
  },
  {
   "cell_type": "code",
   "execution_count": 114,
   "id": "ecfd0ade-fcbe-46f2-b234-bab0bcca8398",
   "metadata": {},
   "outputs": [],
   "source": [
    "# 距離計算\n",
    "def dist(a, b):\n",
    "    return ((a[0] - b[0]) ** 2 + (a[1] - b[1]) ** 2) ** 0.5\n",
    "\n",
    "# 最小値を求める\n",
    "def get_min(m0, m1, m2, i, j):\n",
    "    if m0 < m1:\n",
    "        if m0 < m2:\n",
    "            return i - 1, j, m0\n",
    "        else:\n",
    "            return i - 1, j - 1, m2\n",
    "    else:\n",
    "        if m1 < m2:\n",
    "            return i, j - 1, m1\n",
    "        else:\n",
    "            return i - 1, j - 1, m2"
   ]
  },
  {
   "cell_type": "code",
   "execution_count": 115,
   "id": "1af6afe4-5424-41c9-acfc-e51fb6f53e6e",
   "metadata": {},
   "outputs": [],
   "source": [
    "def spring(a, b, epsilon):\n",
    "    Ta = len(a)\n",
    "    Tb = len(b)\n",
    "\n",
    "    # C:各マスの累積コスト，　B：最小コストの行/列番号， S:コスト最小のパスの開始位置\n",
    "    C = np.zeros((Ta, Tb))\n",
    "    B = np.zeros((Ta, Tb, 2), int)\n",
    "    S = np.zeros((Ta, Tb), int)\n",
    "\n",
    "    C[0, 0] = dist(a[0], b[0])\n",
    "\n",
    "    # 一番左の列は，真っ直ぐ上にコストが累積される\n",
    "    for j in range(1, Tb):\n",
    "        C[0, j] = C[0, j - 1] + dist(a[0], b[j])\n",
    "        B[0, j] = [0, j - 1]\n",
    "        S[0, j] = S[0, j - 1]\n",
    "        \n",
    "    for i in range(1, Ta):\n",
    "        # 一番下の列のコストは，そのマス自身のコストのみにする\n",
    "        C[i, 0] = dist(a[i], b[0])\n",
    "        B[i, 0] = [0, 0]\n",
    "        # スタート地点の行番号を保持\n",
    "        S[i, 0] = i\n",
    "        \n",
    "        # 上方向にコストを計算\n",
    "        for j in range(1, Tb):\n",
    "            pi, pj, m = get_min(C[i - 1, j],\n",
    "                                C[i, j - 1],\n",
    "                                C[i - 1, j - 1],\n",
    "                                i, j)\n",
    "            C[i, j] = dist(a[i], b[j]) + m\n",
    "            # print(C[i, j])\n",
    "            B[i, j] = [pi, pj]\n",
    "            # スタート地点の行番号を保持\n",
    "            S[i, j] = S[pi, pj]\n",
    "            \n",
    "        # 最小のDTW距離の終点の行番号\n",
    "        imin = np.argmin(C[:(i+1), -1])\n",
    "        \n",
    "        # 最小のDTW距離\n",
    "        dmin = C[imin, -1]\n",
    "        \n",
    "        # dminがepsilonより大きければ抜ける\n",
    "        if dmin > epsilon:\n",
    "            continue\n",
    "                \n",
    "        for j in range(1, Tb):\n",
    "            # コストがdminより小さいかつ,区間が被る場合は，\n",
    "            # dminは最小コストではなくなるため次へ\n",
    "            if (C[i,j] < dmin) and (S[i, j] < imin):\n",
    "                break\n",
    "                \n",
    "        else:\n",
    "            path = [[imin, Tb - 1]]\n",
    "            temp_i = imin\n",
    "            temp_j = Tb - 1\n",
    "            \n",
    "            while (B[temp_i, temp_j][0] != 0 or B[temp_i, temp_j][1] != 0):\n",
    "                path.append(B[temp_i, temp_j])\n",
    "                temp_i, temp_j = B[temp_i, temp_j].astype(int)\n",
    "                \n",
    "            C[S <= imin] = 100000000\n",
    "            yield np.array(path), dmin"
   ]
  },
  {
   "cell_type": "code",
   "execution_count": 339,
   "id": "207a7447-6fc5-43a6-8945-280feed469df",
   "metadata": {},
   "outputs": [],
   "source": [
    "# データの準備\n",
    "data = pd.read_csv(\"/Users/yuki-f/Documents/SocSEL/Research/ImageRecognition/473317142.csv\", encoding=\"shift-jis\", usecols=[2,3]).values\n",
    "inputData = pd.read_csv(\"/Users/yuki-f/Documents/SocSEL/Research/ImageRecognition/lowerLeft.csv\", encoding=\"shift-jis\", usecols=[2,3]).values\n"
   ]
  },
  {
   "cell_type": "code",
   "execution_count": 340,
   "id": "956a061a-5ae5-452f-929f-85209ac00b8f",
   "metadata": {},
   "outputs": [],
   "source": [
    "pathes = []\n",
    "for path, cost in spring(data, inputData, 300):\n",
    "    for line in path:\n",
    "        plt.plot(line, [data[line[0]], inputData[line[1]]], linewidth=0.8, c=\"gray\")\n",
    "    plt.plot(data)\n",
    "    plt.plot(inputData)\n",
    "    plt.plot(path[:,0], data[path[:,0]], C=\"C2\")\n",
    "    plt.show()\n",
    "    pathes.append(path)\n",
    "    # 類似している箇所のインデックス\n",
    "    print(path[:,0])"
   ]
  },
  {
   "cell_type": "code",
   "execution_count": null,
   "id": "25f89397-0958-4627-8cdf-4da7379714de",
   "metadata": {},
   "outputs": [],
   "source": []
  }
 ],
 "metadata": {
  "kernelspec": {
   "display_name": "Python 3",
   "language": "python",
   "name": "python3"
  },
  "language_info": {
   "codemirror_mode": {
    "name": "ipython",
    "version": 3
   },
   "file_extension": ".py",
   "mimetype": "text/x-python",
   "name": "python",
   "nbconvert_exporter": "python",
   "pygments_lexer": "ipython3",
   "version": "3.8.8"
  }
 },
 "nbformat": 4,
 "nbformat_minor": 5
}
