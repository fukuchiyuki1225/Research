{
 "cells": [
  {
   "cell_type": "code",
   "execution_count": 1,
   "id": "c47f1feb-606d-4314-8398-3e0a435371c6",
   "metadata": {},
   "outputs": [],
   "source": [
    "# 作品同士の類似度計算を行う"
   ]
  },
  {
   "cell_type": "code",
   "execution_count": null,
   "id": "ed0fee60-59bd-4f93-b400-30cb199adb4f",
   "metadata": {},
   "outputs": [],
   "source": []
  }
 ],
 "metadata": {
  "kernelspec": {
   "display_name": "Python 3",
   "language": "python",
   "name": "python3"
  },
  "language_info": {
   "codemirror_mode": {
    "name": "ipython",
    "version": 3
   },
   "file_extension": ".py",
   "mimetype": "text/x-python",
   "name": "python",
   "nbconvert_exporter": "python",
   "pygments_lexer": "ipython3",
   "version": "3.8.8"
  }
 },
 "nbformat": 4,
 "nbformat_minor": 5
}
