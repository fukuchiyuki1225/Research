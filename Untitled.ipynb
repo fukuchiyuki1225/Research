{
 "cells": [
  {
   "cell_type": "code",
   "execution_count": 2,
   "id": "275aa5a7-8ec2-4c05-8e29-d95491b4e976",
   "metadata": {},
   "outputs": [],
   "source": [
    "import pandas as pd\n",
    "import matplotlib.pyplot as plt\n",
    "import numpy as np"
   ]
  },
  {
   "cell_type": "code",
   "execution_count": null,
   "id": "2e8b83a0-5cdb-42c5-8b8a-0b8dd0569fdc",
   "metadata": {},
   "outputs": [],
   "source": []
  },
  {
   "cell_type": "code",
   "execution_count": 4,
   "id": "a58b7a49-eb0e-442b-858d-c9e2309272fe",
   "metadata": {},
   "outputs": [],
   "source": [
    "# 動作1の結果"
   ]
  },
  {
   "cell_type": "code",
   "execution_count": 6,
   "id": "612568a1-3e2e-45d2-9d06-4f6fce870d43",
   "metadata": {},
   "outputs": [],
   "source": [
    "a = pd.read_csv(\"/Users/yuki-f/scratchsearch/results/result-1.csv\", usecols=[\"dtw\"])"
   ]
  },
  {
   "cell_type": "code",
   "execution_count": 15,
   "id": "bb199a7f-b2c6-465a-8ea3-93bf4226c4d4",
   "metadata": {},
   "outputs": [
    {
     "data": {
      "image/png": "[encoded data removed]",
      "text/plain": [
       "<Figure size 432x288 with 1 Axes>"
      ]
     },
     "metadata": {
      "needs_background": "light"
     },
     "output_type": "display_data"
    }
   ],
   "source": [
    "# ヒストグラム：動作a\n",
    "fig = plt.figure()\n",
    "ax = fig.add_subplot(1,1,1)\n",
    "\n",
    "ax.hist(a, bins=int(np.round(np.max(a))), color=\"blue\", ec=\"dimgray\")\n",
    "\n",
    "ax.set_xlabel(\"dtw\")\n",
    "ax.set_ylabel(\"number of movement\")\n",
    "\n",
    "plt.ticklabel_format(style='plain',axis='y')\n",
    "\n",
    "fig.savefig(\"/Users/yuki-f/scratchsearch/hist-1.png\")"
   ]
  },
  {
   "cell_type": "code",
   "execution_count": 8,
   "id": "316e39e1-4101-4bf4-b567-5443a35b4310",
   "metadata": {},
   "outputs": [
    {
     "data": {
      "text/plain": [
       "[Text(1, 0, 'dtw')]"
      ]
     },
     "execution_count": 8,
     "metadata": {},
     "output_type": "execute_result"
    },
    {
     "data": {
      "image/png": "[encoded data removed]",
      "text/plain": [
       "<Figure size 432x288 with 1 Axes>"
      ]
     },
     "metadata": {
      "needs_background": "light"
     },
     "output_type": "display_data"
    }
   ],
   "source": [
    "# 箱髭図：動作a\n",
    "fig = plt.figure()\n",
    "ax = fig.add_subplot()\n",
    "\n",
    "bp = ax.boxplot(a)\n",
    "ax.set_xticklabels([\"dtw\"])"
   ]
  },
  {
   "cell_type": "code",
   "execution_count": 9,
   "id": "4c65ba80-09c3-4c85-9f87-1d1144f24de1",
   "metadata": {},
   "outputs": [
    {
     "data": {
      "text/plain": [
       "14.59592958920455"
      ]
     },
     "execution_count": 9,
     "metadata": {},
     "output_type": "execute_result"
    }
   ],
   "source": [
    "# 平均値：動作a\n",
    "np.average(a)"
   ]
  },
  {
   "cell_type": "code",
   "execution_count": 10,
   "id": "dadcea8e-8dbe-4da8-a483-0bc34a824e62",
   "metadata": {},
   "outputs": [
    {
     "data": {
      "text/plain": [
       "8.854764601595894"
      ]
     },
     "execution_count": 10,
     "metadata": {},
     "output_type": "execute_result"
    }
   ],
   "source": [
    "# 中央値：動作a\n",
    "np.median(a)"
   ]
  },
  {
   "cell_type": "code",
   "execution_count": 11,
   "id": "105e6143-eb3f-4860-a57c-f2c49d08ca34",
   "metadata": {},
   "outputs": [
    {
     "data": {
      "text/plain": [
       "dtw    0.336627\n",
       "dtype: float64"
      ]
     },
     "execution_count": 11,
     "metadata": {},
     "output_type": "execute_result"
    }
   ],
   "source": [
    "# 最小値：動作a\n",
    "np.min(a)"
   ]
  },
  {
   "cell_type": "code",
   "execution_count": 12,
   "id": "4cb03f2d-b7eb-4edb-af51-556e4e9afa9a",
   "metadata": {},
   "outputs": [
    {
     "data": {
      "text/plain": [
       "dtw    73.956072\n",
       "dtype: float64"
      ]
     },
     "execution_count": 12,
     "metadata": {},
     "output_type": "execute_result"
    }
   ],
   "source": [
    "# 最大値：動作a\n",
    "np.max(a)"
   ]
  },
  {
   "cell_type": "code",
   "execution_count": null,
   "id": "6e051101-9706-4f45-b3bf-dc30cd1b8fde",
   "metadata": {},
   "outputs": [],
   "source": []
  },
  {
   "cell_type": "code",
   "execution_count": 26,
   "id": "2d376718-b5e1-48c8-826d-3974230ef93b",
   "metadata": {},
   "outputs": [],
   "source": [
    "# 動作2の結果"
   ]
  },
  {
   "cell_type": "code",
   "execution_count": 14,
   "id": "902d8fe5-ec34-4cd1-9fd0-407569011e30",
   "metadata": {},
   "outputs": [],
   "source": [
    "b = pd.read_csv(\"/Users/yuki-f/scratchsearch/results/result-2.csv\", usecols=[\"dtw\"])"
   ]
  },
  {
   "cell_type": "code",
   "execution_count": 16,
   "id": "c887d80f-0831-4306-aab3-46d07487806b",
   "metadata": {},
   "outputs": [
    {
     "data": {
      "image/png": "[encoded data removed]",
      "text/plain": [
       "<Figure size 432x288 with 1 Axes>"
      ]
     },
     "metadata": {
      "needs_background": "light"
     },
     "output_type": "display_data"
    }
   ],
   "source": [
    "# ヒストグラム：動作b\n",
    "fig = plt.figure()\n",
    "ax = fig.add_subplot(1,1,1)\n",
    "\n",
    "ax.hist(b, int(np.round(np.max(b))), color=\"blue\", ec=\"dimgray\")\n",
    "\n",
    "ax.set_xlabel(\"dtw\")\n",
    "ax.set_ylabel(\"number of movement\")\n",
    "\n",
    "plt.ticklabel_format(style='plain',axis='y')\n",
    "\n",
    "fig.savefig(\"/Users/yuki-f/scratchsearch/hist-2.png\")"
   ]
  },
  {
   "cell_type": "code",
   "execution_count": 17,
   "id": "fccef4ea-b800-4f85-9fae-bc15d6b83335",
   "metadata": {},
   "outputs": [
    {
     "data": {
      "text/plain": [
       "[Text(1, 0, 'dtw')]"
      ]
     },
     "execution_count": 17,
     "metadata": {},
     "output_type": "execute_result"
    },
    {
     "data": {
      "image/png": "[encoded data removed]",
      "text/plain": [
       "<Figure size 432x288 with 1 Axes>"
      ]
     },
     "metadata": {
      "needs_background": "light"
     },
     "output_type": "display_data"
    }
   ],
   "source": [
    "# 箱髭図：動作b\n",
    "fig = plt.figure()\n",
    "ax = fig.add_subplot()\n",
    "\n",
    "bp = ax.boxplot(b)\n",
    "ax.set_xticklabels([\"dtw\"])"
   ]
  },
  {
   "cell_type": "code",
   "execution_count": 18,
   "id": "baea36f0-b71d-44c5-9ceb-0d4f57301bd0",
   "metadata": {},
   "outputs": [
    {
     "data": {
      "text/plain": [
       "14.573060446561428"
      ]
     },
     "execution_count": 18,
     "metadata": {},
     "output_type": "execute_result"
    }
   ],
   "source": [
    "# 平均値：動作b\n",
    "np.average(b)"
   ]
  },
  {
   "cell_type": "code",
   "execution_count": 19,
   "id": "2b705fab-7661-4d27-8b5f-755cd0583c93",
   "metadata": {},
   "outputs": [
    {
     "data": {
      "text/plain": [
       "8.237665836118092"
      ]
     },
     "execution_count": 19,
     "metadata": {},
     "output_type": "execute_result"
    }
   ],
   "source": [
    "# 中央値：動作b\n",
    "np.median(b)"
   ]
  },
  {
   "cell_type": "code",
   "execution_count": 20,
   "id": "c1c100c8-88d4-43fc-88a1-9d651cc17c4e",
   "metadata": {},
   "outputs": [
    {
     "data": {
      "text/plain": [
       "dtw    0.742863\n",
       "dtype: float64"
      ]
     },
     "execution_count": 20,
     "metadata": {},
     "output_type": "execute_result"
    }
   ],
   "source": [
    "# 最小値：動作b\n",
    "np.min(b)"
   ]
  },
  {
   "cell_type": "code",
   "execution_count": 21,
   "id": "decfc8e8-6302-4d1a-8bdf-dbb8aca578b1",
   "metadata": {},
   "outputs": [
    {
     "data": {
      "text/plain": [
       "dtw    98.670786\n",
       "dtype: float64"
      ]
     },
     "execution_count": 21,
     "metadata": {},
     "output_type": "execute_result"
    }
   ],
   "source": [
    "# 最大値：動作b\n",
    "np.max(b)"
   ]
  },
  {
   "cell_type": "code",
   "execution_count": null,
   "id": "f89a9d30-422b-4b6c-8988-cdf19cdebe26",
   "metadata": {},
   "outputs": [],
   "source": []
  },
  {
   "cell_type": "code",
   "execution_count": 22,
   "id": "67b93e91-296f-42bf-bf0c-f00a2eb23d94",
   "metadata": {},
   "outputs": [],
   "source": [
    "# 動作cの結果"
   ]
  },
  {
   "cell_type": "code",
   "execution_count": 23,
   "id": "1110d853-e056-41b0-b2dc-bf3836e007fb",
   "metadata": {},
   "outputs": [],
   "source": [
    "c = pd.read_csv(\"/Users/yuki-f/scratchsearch/results/result-3.csv\", usecols=[\"dtw\"])"
   ]
  },
  {
   "cell_type": "code",
   "execution_count": 24,
   "id": "7530fee8-71f1-4314-9f99-e5d015e87b36",
   "metadata": {},
   "outputs": [
    {
     "data": {
      "image/png": "[encoded data removed]",
      "text/plain": [
       "<Figure size 432x288 with 1 Axes>"
      ]
     },
     "metadata": {
      "needs_background": "light"
     },
     "output_type": "display_data"
    }
   ],
   "source": [
    "# ヒストグラム：動作c\n",
    "fig = plt.figure()\n",
    "ax = fig.add_subplot(1,1,1)\n",
    "\n",
    "ax.hist(c, bins=int(np.round(np.max(c))), color=\"blue\", ec=\"dimgray\")\n",
    "\n",
    "ax.set_xlabel(\"dtw\")\n",
    "ax.set_ylabel(\"number of movement\")\n",
    "\n",
    "plt.ticklabel_format(style='plain',axis='y')\n",
    "\n",
    "fig.savefig(\"/Users/yuki-f/scratchsearch/hist-3.png\")"
   ]
  },
  {
   "cell_type": "code",
   "execution_count": 25,
   "id": "cac921e6-818d-4bdf-b017-2950d5fd6e8a",
   "metadata": {},
   "outputs": [
    {
     "data": {
      "text/plain": [
       "[Text(1, 0, 'dtw')]"
      ]
     },
     "execution_count": 25,
     "metadata": {},
     "output_type": "execute_result"
    },
    {
     "data": {
      "image/png": "[encoded data removed]",
      "text/plain": [
       "<Figure size 432x288 with 1 Axes>"
      ]
     },
     "metadata": {
      "needs_background": "light"
     },
     "output_type": "display_data"
    }
   ],
   "source": [
    "# 箱髭図：動作c\n",
    "fig = plt.figure()\n",
    "ax = fig.add_subplot()\n",
    "\n",
    "bp = ax.boxplot(c)\n",
    "ax.set_xticklabels([\"dtw\"])"
   ]
  },
  {
   "cell_type": "code",
   "execution_count": 26,
   "id": "9d6d6ac5-4590-40fd-80f7-ab85a74dec7b",
   "metadata": {},
   "outputs": [
    {
     "data": {
      "text/plain": [
       "21.260264692154045"
      ]
     },
     "execution_count": 26,
     "metadata": {},
     "output_type": "execute_result"
    }
   ],
   "source": [
    "# 平均値：動作c\n",
    "np.average(c)"
   ]
  },
  {
   "cell_type": "code",
   "execution_count": 27,
   "id": "cd12cf60-2b5b-4ffb-bf2b-d30d8d949db7",
   "metadata": {},
   "outputs": [
    {
     "data": {
      "text/plain": [
       "18.068867592169635"
      ]
     },
     "execution_count": 27,
     "metadata": {},
     "output_type": "execute_result"
    }
   ],
   "source": [
    "# 中央値：動作c\n",
    "np.median(c)"
   ]
  },
  {
   "cell_type": "code",
   "execution_count": 28,
   "id": "5b67cfce-4cc9-46d9-9fbf-2aa163e06741",
   "metadata": {},
   "outputs": [
    {
     "data": {
      "text/plain": [
       "dtw    2.426632\n",
       "dtype: float64"
      ]
     },
     "execution_count": 28,
     "metadata": {},
     "output_type": "execute_result"
    }
   ],
   "source": [
    "# 最小値：動作c\n",
    "np.min(c)"
   ]
  },
  {
   "cell_type": "code",
   "execution_count": 29,
   "id": "f5f5054d-a1f2-4e03-b74f-92f6cd0ee098",
   "metadata": {},
   "outputs": [
    {
     "data": {
      "text/plain": [
       "dtw    75.317147\n",
       "dtype: float64"
      ]
     },
     "execution_count": 29,
     "metadata": {},
     "output_type": "execute_result"
    }
   ],
   "source": [
    "# 最大値：動作c\n",
    "np.max(c)"
   ]
  },
  {
   "cell_type": "code",
   "execution_count": null,
   "id": "893756d9-cb77-4b23-8be9-113001297ef0",
   "metadata": {},
   "outputs": [],
   "source": []
  },
  {
   "cell_type": "code",
   "execution_count": 52,
   "id": "6bf6293d-25fc-4426-96a8-e623e0542073",
   "metadata": {},
   "outputs": [],
   "source": [
    "# 動作dの結果"
   ]
  },
  {
   "cell_type": "code",
   "execution_count": 32,
   "id": "ccf2ba4d-5419-4923-a3bb-a3f991267945",
   "metadata": {},
   "outputs": [],
   "source": [
    "d = pd.read_csv(\"/Users/yuki-f/scratchsearch/results/result-4.csv\", usecols=[\"dtw\"])"
   ]
  },
  {
   "cell_type": "code",
   "execution_count": 33,
   "id": "48124ef7-7140-437d-b3a8-ec22b680220d",
   "metadata": {},
   "outputs": [
    {
     "data": {
      "image/png": "[encoded data removed]",
      "text/plain": [
       "<Figure size 432x288 with 1 Axes>"
      ]
     },
     "metadata": {
      "needs_background": "light"
     },
     "output_type": "display_data"
    }
   ],
   "source": [
    "# ヒストグラム：動作d\n",
    "fig = plt.figure()\n",
    "ax = fig.add_subplot(1,1,1)\n",
    "\n",
    "ax.hist(d, bins=int(np.round(np.max(d))), color=\"blue\", ec=\"dimgray\")\n",
    "\n",
    "ax.set_xlabel(\"dtw\")\n",
    "ax.set_ylabel(\"number of movement\")\n",
    "\n",
    "plt.ticklabel_format(style='plain',axis='y')\n",
    "\n",
    "fig.savefig(\"/Users/yuki-f/scratchsearch/hist-4.png\")"
   ]
  },
  {
   "cell_type": "code",
   "execution_count": 34,
   "id": "24fe5a3d-c6f6-4bbe-951f-ed38959fc6f4",
   "metadata": {},
   "outputs": [
    {
     "data": {
      "text/plain": [
       "[Text(1, 0, 'dtw')]"
      ]
     },
     "execution_count": 34,
     "metadata": {},
     "output_type": "execute_result"
    },
    {
     "data": {
      "image/png": "[encoded data removed]",
      "text/plain": [
       "<Figure size 432x288 with 1 Axes>"
      ]
     },
     "metadata": {
      "needs_background": "light"
     },
     "output_type": "display_data"
    }
   ],
   "source": [
    "# 箱髭図：動作d\n",
    "fig = plt.figure()\n",
    "ax = fig.add_subplot()\n",
    "\n",
    "bp = ax.boxplot(d)\n",
    "ax.set_xticklabels([\"dtw\"])"
   ]
  },
  {
   "cell_type": "code",
   "execution_count": 35,
   "id": "6ae7da78-d91c-4e10-951d-1d2ff6af9100",
   "metadata": {},
   "outputs": [
    {
     "data": {
      "text/plain": [
       "19.602563732103977"
      ]
     },
     "execution_count": 35,
     "metadata": {},
     "output_type": "execute_result"
    }
   ],
   "source": [
    "# 平均値：動作d\n",
    "np.average(d)"
   ]
  },
  {
   "cell_type": "code",
   "execution_count": 36,
   "id": "068a4789-53bc-4f20-ad2c-8b3cf6a750a0",
   "metadata": {},
   "outputs": [
    {
     "data": {
      "text/plain": [
       "15.623840836517616"
      ]
     },
     "execution_count": 36,
     "metadata": {},
     "output_type": "execute_result"
    }
   ],
   "source": [
    "# 中央値：動作d\n",
    "np.median(d)"
   ]
  },
  {
   "cell_type": "code",
   "execution_count": 37,
   "id": "958fc10b-122b-4482-95fe-1de786813eae",
   "metadata": {},
   "outputs": [
    {
     "data": {
      "text/plain": [
       "dtw    2.159317\n",
       "dtype: float64"
      ]
     },
     "execution_count": 37,
     "metadata": {},
     "output_type": "execute_result"
    }
   ],
   "source": [
    "# 最小値：動作d\n",
    "np.min(d)"
   ]
  },
  {
   "cell_type": "code",
   "execution_count": 38,
   "id": "5f6b6389-2589-47da-b913-a1c56168e764",
   "metadata": {},
   "outputs": [
    {
     "data": {
      "text/plain": [
       "dtw    74.628157\n",
       "dtype: float64"
      ]
     },
     "execution_count": 38,
     "metadata": {},
     "output_type": "execute_result"
    }
   ],
   "source": [
    "# 最大値：動作c\n",
    "np.max(d)"
   ]
  },
  {
   "cell_type": "code",
   "execution_count": null,
   "id": "640778b1-5d70-4ac4-8d87-0abb75da70fd",
   "metadata": {},
   "outputs": [],
   "source": []
  }
 ],
 "metadata": {
  "kernelspec": {
   "display_name": "Python 3",
   "language": "python",
   "name": "python3"
  },
  "language_info": {
   "codemirror_mode": {
    "name": "ipython",
    "version": 3
   },
   "file_extension": ".py",
   "mimetype": "text/x-python",
   "name": "python",
   "nbconvert_exporter": "python",
   "pygments_lexer": "ipython3",
   "version": "3.8.8"
  }
 },
 "nbformat": 4,
 "nbformat_minor": 5
}
